{
 "cells": [
  {
   "cell_type": "markdown",
   "metadata": {},
   "source": [
    "# Vehicle Detection and Tracking\n",
    "\n",
    "The project contains the codebase and algorithm for detection of vehicle in video frame and track them through out the video\n",
    "\n",
    "The following steps are performed in order build the pipeline for the vehicle dectection algorithm\n",
    "\n",
    "- Develop a function to draw boxes around give list of co-ordinates\n",
    "- Peform feature extraction using HOG(Histogram of Oriented Gradients) on training set\n",
    "- Use a SVM (Support Vector Machine) Classifier to train using the features extracted on car, non car data set\n",
    "- Use sliding window technique on the images from the video using the classifier search for the relevant object.\n",
    "- Remove false positve using by using heatmaps and outline the detected object in the video frame with annotations"
   ]
  },
  {
   "cell_type": "code",
   "execution_count": null,
   "metadata": {
    "collapsed": true
   },
   "outputs": [],
   "source": []
  }
 ],
 "metadata": {
  "kernelspec": {
   "display_name": "Python 3",
   "language": "python",
   "name": "python3"
  },
  "language_info": {
   "codemirror_mode": {
    "name": "ipython",
    "version": 3
   },
   "file_extension": ".py",
   "mimetype": "text/x-python",
   "name": "python",
   "nbconvert_exporter": "python",
   "pygments_lexer": "ipython3",
   "version": "3.5.3"
  }
 },
 "nbformat": 4,
 "nbformat_minor": 2
}
